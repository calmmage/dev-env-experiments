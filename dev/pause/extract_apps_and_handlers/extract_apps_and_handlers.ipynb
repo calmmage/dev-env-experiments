{
 "cells": [
  {
   "cell_type": "code",
   "id": "initial_id",
   "metadata": {
    "collapsed": true,
    "ExecuteTime": {
     "end_time": "2024-08-25T00:16:08.236583Z",
     "start_time": "2024-08-25T00:16:08.163981Z"
    }
   },
   "source": [
    "# find all 'bot.py', 'app.py' and 'handler.py' files in all projects\n",
    "from pathlib import Path\n",
    "projects_dir = Path('~/work/projects').expanduser()\n",
    "\n",
    "results = {}\n",
    "for project in projects_dir.iterdir():\n",
    "    res = {}\n",
    "    # res = []\n",
    "    if project.is_dir():\n",
    "        # for file in project.glob('*/bot.py'):\n",
    "        #     res['bot'] = file\n",
    "        for file in project.glob('*/app.py'):\n",
    "            res['app'] = file\n",
    "        for file in project.glob('*/handler.py'):\n",
    "            res['handler'] = file\n",
    "        for file in project.glob('*/lib.py'):\n",
    "            res['lib'] = file\n",
    "        if res:\n",
    "            print(project)\n",
    "            for file in res:\n",
    "                print('  ', res[file])\n",
    "            results[project.name] = res\n"
   ],
   "outputs": [
    {
     "name": "stdout",
     "output_type": "stream",
     "text": [
      "/Users/petrlavrov/work/projects/something-fun\n",
      "   /Users/petrlavrov/work/projects/something-fun/project_name/lib.py\n",
      "/Users/petrlavrov/work/projects/message-history-bot\n",
      "   /Users/petrlavrov/work/projects/message-history-bot/message_history_bot/lib.py\n",
      "/Users/petrlavrov/work/projects/gpt-assistant\n",
      "   /Users/petrlavrov/work/projects/gpt-assistant/gpt_assistant/lib.py\n",
      "/Users/petrlavrov/work/projects/video-to-audio-bot\n",
      "   /Users/petrlavrov/work/projects/video-to-audio-bot/project_name/lib.py\n",
      "/Users/petrlavrov/work/projects/calmmage-showcase-bot\n",
      "   /Users/petrlavrov/work/projects/calmmage-showcase-bot/project_name/lib.py\n",
      "/Users/petrlavrov/work/projects/gpt_python_sandbox\n",
      "   /Users/petrlavrov/work/projects/gpt_python_sandbox/gpt_python_sandbox/lib.py\n",
      "/Users/petrlavrov/work/projects/fedor-bot-idea\n",
      "   /Users/petrlavrov/work/projects/fedor-bot-idea/project_name/lib.py\n",
      "/Users/petrlavrov/work/projects/llm-experiments\n",
      "   /Users/petrlavrov/work/projects/llm-experiments/src/lib.py\n",
      "/Users/petrlavrov/work/projects/generate-session-idea-dev\n",
      "   /Users/petrlavrov/work/projects/generate-session-idea-dev/ef_matchmaking_bot/app.py\n",
      "   /Users/petrlavrov/work/projects/generate-session-idea-dev/ef_matchmaking_bot/handler.py\n",
      "/Users/petrlavrov/work/projects/forwarder-bot\n",
      "   /Users/petrlavrov/work/projects/forwarder-bot/forwarder_bot/lib.py\n",
      "/Users/petrlavrov/work/projects/resu_me_hh_app\n",
      "   /Users/petrlavrov/work/projects/resu_me_hh_app/resu_me_hh_app/app.py\n",
      "/Users/petrlavrov/work/projects/calmmage-feature-bot\n",
      "   /Users/petrlavrov/work/projects/calmmage-feature-bot/calmmage_feature_bot/app.py\n",
      "   /Users/petrlavrov/work/projects/calmmage-feature-bot/calmmage_feature_bot/handler.py\n",
      "   /Users/petrlavrov/work/projects/calmmage-feature-bot/calmmage_feature_bot/lib.py\n",
      "/Users/petrlavrov/work/projects/codechat\n",
      "   /Users/petrlavrov/work/projects/codechat/src/app.py\n",
      "/Users/petrlavrov/work/projects/ef-chat-bot\n",
      "   /Users/petrlavrov/work/projects/ef-chat-bot/project_name/lib.py\n",
      "/Users/petrlavrov/work/projects/calmapp\n",
      "   /Users/petrlavrov/work/projects/calmapp/calmapp/app.py\n",
      "/Users/petrlavrov/work/projects/abstract-tool-user\n",
      "   /Users/petrlavrov/work/projects/abstract-tool-user/abstract_tool_user/app.py\n",
      "   /Users/petrlavrov/work/projects/abstract-tool-user/abstract_tool_user/handler.py\n",
      "/Users/petrlavrov/work/projects/bot-lib-bot-template\n",
      "   /Users/petrlavrov/work/projects/bot-lib-bot-template/project_name/app.py\n",
      "   /Users/petrlavrov/work/projects/bot-lib-bot-template/project_name/handler.py\n",
      "/Users/petrlavrov/work/projects/archivist-bot\n",
      "   /Users/petrlavrov/work/projects/archivist-bot/archivist_bot/app.py\n",
      "/Users/petrlavrov/work/projects/fairytale-bot\n",
      "   /Users/petrlavrov/work/projects/fairytale-bot/fairytale_bot/lib.py\n",
      "/Users/petrlavrov/work/projects/calmmage-task-tracker\n",
      "   /Users/petrlavrov/work/projects/calmmage-task-tracker/project_name/lib.py\n",
      "/Users/petrlavrov/work/projects/outstanding-items-bot\n",
      "   /Users/petrlavrov/work/projects/outstanding-items-bot/outstanding_items_bot/app.py\n",
      "   /Users/petrlavrov/work/projects/outstanding-items-bot/outstanding_items_bot/handler.py\n"
     ]
    }
   ],
   "execution_count": 18
  },
  {
   "metadata": {
    "ExecuteTime": {
     "end_time": "2024-08-25T00:11:06.375016Z",
     "start_time": "2024-08-25T00:11:06.372117Z"
    }
   },
   "cell_type": "code",
   "source": [
    "list(results.items())[0]\n",
    "# len(results)"
   ],
   "id": "eeb4fb9dce07b4f2",
   "outputs": [
    {
     "data": {
      "text/plain": [
       "('something-fun',\n",
       " {'bot': PosixPath('/Users/petrlavrov/work/projects/something-fun/project_name/bot.py')})"
      ]
     },
     "execution_count": 16,
     "metadata": {},
     "output_type": "execute_result"
    }
   ],
   "execution_count": 16
  },
  {
   "metadata": {
    "ExecuteTime": {
     "end_time": "2024-08-25T00:18:27.314777Z",
     "start_time": "2024-08-25T00:18:27.299920Z"
    }
   },
   "cell_type": "code",
   "source": [
    "# if all 3 - copy app to calmapp and handler to bot-lib\n",
    "botlib_dir = Path('/Users/petrlavrov/work/projects/bot-lib/bot_lib/handlers/projects')\n",
    "calmapp_dir = Path('/Users/petrlavrov/work/projects/calmapp/calmapp/plugins/projects')\n",
    "\n",
    "# else - copy bot to both calmapp and bot-lib\n",
    "# rename all files to project_name_bot.py, project_name_app.py, project_name_handler.py\n",
    "\n",
    "for project, files in results.items():\n",
    "    for file in files:\n",
    "        if file == 'app':\n",
    "            new_file = calmapp_dir / f'{project}_app.py'\n",
    "            new_file.write_text(files[file].read_text())\n",
    "        elif file == 'handler':\n",
    "            new_file = botlib_dir / f'{project}_handler.py'\n",
    "            new_file.write_text(files[file].read_text())\n",
    "        elif file == 'lib':\n",
    "            new_file = botlib_dir / f'{project}_lib.py'\n",
    "            new_file.write_text(files[file].read_text())\n",
    "            new_file = calmapp_dir / f'{project}_lib.py'\n",
    "            new_file.write_text(files[file].read_text())\n",
    "            "
   ],
   "id": "80da7d4184ebb21c",
   "outputs": [],
   "execution_count": 20
  },
  {
   "metadata": {},
   "cell_type": "code",
   "outputs": [],
   "execution_count": null,
   "source": [
    "# bonus: check 'migration' and 'migration 2' branches versions\n",
    "\n",
    "# I am so tired... I kind of want to throw everything away and start from scratch..\n",
    "# but actually.. maybe just hide it? Starting from scratch won't change anything, and I actually just want to add new features, not delete old ones\n",
    "\n",
    "# The thing is - I just need to wire a few more things together, and it will be great! \n",
    "\n",
    "# add examples for using my stuff and it will be fine\n",
    "\n"
   ],
   "id": "3d386fe9e6e0faca"
  },
  {
   "metadata": {
    "ExecuteTime": {
     "end_time": "2024-10-13T00:55:25.897263Z",
     "start_time": "2024-10-13T00:55:25.776734Z"
    }
   },
   "cell_type": "code",
   "source": "from telegram import Bot",
   "id": "59455b63c2f235a2",
   "outputs": [],
   "execution_count": 1
  },
  {
   "metadata": {},
   "cell_type": "code",
   "outputs": [],
   "execution_count": null,
   "source": "",
   "id": "22cbded8f15a7d3f"
  }
 ],
 "metadata": {
  "kernelspec": {
   "display_name": "Python 3",
   "language": "python",
   "name": "python3"
  },
  "language_info": {
   "codemirror_mode": {
    "name": "ipython",
    "version": 2
   },
   "file_extension": ".py",
   "mimetype": "text/x-python",
   "name": "python",
   "nbconvert_exporter": "python",
   "pygments_lexer": "ipython2",
   "version": "2.7.6"
  }
 },
 "nbformat": 4,
 "nbformat_minor": 5
}
