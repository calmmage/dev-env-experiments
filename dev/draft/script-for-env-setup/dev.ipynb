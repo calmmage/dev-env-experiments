{
 "cells": [
  {
   "cell_type": "code",
   "execution_count": 1,
   "metadata": {},
   "outputs": [
    {
     "name": "stdout",
     "output_type": "stream",
     "text": [
      "1\n"
     ]
    }
   ],
   "source": [
    "print(1)"
   ]
  },
  {
   "cell_type": "markdown",
   "metadata": {},
   "source": [
    "Let's run some script manually"
   ]
  },
  {
   "cell_type": "code",
   "execution_count": 30,
   "metadata": {},
   "outputs": [
    {
     "name": "stdout",
     "output_type": "stream",
     "text": [
      "True\n",
      "True\n",
      "True\n",
      "Hello, world!\n",
      "\n",
      "\n"
     ]
    }
   ],
   "source": [
    "import subprocess\n",
    "\n",
    "# repo to use\n",
    "from pathlib import Path\n",
    "repo_name = 'calmmage-private'\n",
    "projects_path = Path('/Users/petrlavrov/work/projects')\n",
    "repo_path = projects_path / repo_name\n",
    "# print(repo_path.exists())\n",
    "\n",
    "#\n",
    "relative_script_path = 'seasonal/2024_q4_winter/script-for-env-setup/sample_script_2.py'\n",
    "script_path = repo_path / relative_script_path\n",
    "# print(script_path.exists())\n",
    "\n",
    "# environment to use\n",
    "environment_repo_name = 'dev-env'\n",
    "environment_repo_path = projects_path / environment_repo_name\n",
    "print(environment_repo_path.exists())\n",
    "\n",
    "environment_path = environment_repo_path / '.venv'\n",
    "print(environment_path.exists())\n",
    "\n",
    "python_executable = environment_path / 'bin' / 'python'\n",
    "print(python_executable.exists())\n",
    "\n",
    "# run the script\n",
    "result = subprocess.run([python_executable, script_path], capture_output=True, text=True)\n",
    "print(result.stdout)\n",
    "print(result.stderr)    \n"
   ]
  },
  {
   "cell_type": "code",
   "execution_count": 13,
   "metadata": {},
   "outputs": [],
   "source": [
    "# it works!!! \n",
    "# now, let's split this into piceces\n",
    "# 0) let's test and make sure env is loaded correctly - import calmlib etc\n",
    "# a)\n",
    "# b) make an alias / bash function for running a python script using the given environment\n",
    "# c) run a specifc script \n",
    "\n"
   ]
  },
  {
   "cell_type": "code",
   "execution_count": 31,
   "metadata": {},
   "outputs": [
    {
     "name": "stdout",
     "output_type": "stream",
     "text": [
      "Hello, world!\n",
      "\n",
      "\n"
     ]
    }
   ],
   "source": [
    "import subprocess\n",
    "from pathlib import Path\n",
    "\n",
    "def run_script_with_poetry(poetry_env_path, script_path):\n",
    "    # Ensure paths are Path objects\n",
    "    poetry_env_path = Path(poetry_env_path)\n",
    "    script_path = Path(script_path)\n",
    "\n",
    "    # Construct the activation command\n",
    "    activate_cmd = f\"source {poetry_env_path}/bin/activate\"\n",
    "\n",
    "    # Construct the full command\n",
    "    full_cmd = f\"{activate_cmd} && python {script_path} && deactivate\"\n",
    "\n",
    "    # Run the command in a shell\n",
    "    result = subprocess.run(full_cmd, shell=True, capture_output=True, text=True, executable='/bin/bash')\n",
    "\n",
    "    return result\n",
    "\n",
    "# Usage\n",
    "result = run_script_with_poetry(environment_path, script_path)\n",
    "print(result.stdout)\n",
    "print(result.stderr)"
   ]
  },
  {
   "cell_type": "code",
   "execution_count": 27,
   "metadata": {},
   "outputs": [
    {
     "name": "stdout",
     "output_type": "stream",
     "text": [
      "/Users/petrlavrov/work/projects/dev-env/.venv/lib/python3.11/site-packages/calmlib\n",
      "/Users/petrlavrov/work/projects/dev-env/.venv/lib/python3.11/site-packages/calmlib-1.0.5.dist-info\n"
     ]
    }
   ],
   "source": [
    "# print(environment_path)\n",
    "# let's check if calmlib is in there\n",
    "\n",
    "# list all files in the environment\n",
    "# x = list(environment_path.glob('**/*'))\n",
    "\n",
    "x = list(environment_path.glob('lib/python3.11/site-packages/*'))\n",
    "pp = environment_path / 'lib' / 'python3.11' / 'site-packages'\n",
    "# print(x)\n",
    "for item in x:\n",
    "    # print(str(item.relative_to(pp)))\n",
    "    if 'calmlib' in str(item):\n",
    "        print(item)\n",
    "\n"
   ]
  },
  {
   "cell_type": "code",
   "execution_count": null,
   "metadata": {},
   "outputs": [],
   "source": []
  }
 ],
 "metadata": {
  "kernelspec": {
   "display_name": ".venv",
   "language": "python",
   "name": "python3"
  },
  "language_info": {
   "codemirror_mode": {
    "name": "ipython",
    "version": 3
   },
   "file_extension": ".py",
   "mimetype": "text/x-python",
   "name": "python",
   "nbconvert_exporter": "python",
   "pygments_lexer": "ipython3",
   "version": "3.11.10"
  }
 },
 "nbformat": 4,
 "nbformat_minor": 2
}
