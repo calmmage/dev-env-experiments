{
 "cells": [
  {
   "cell_type": "code",
   "id": "initial_id",
   "metadata": {
    "collapsed": true,
    "ExecuteTime": {
     "end_time": "2024-10-23T15:40:57.456761Z",
     "start_time": "2024-10-23T15:40:57.453165Z"
    }
   },
   "source": "print(1)",
   "outputs": [
    {
     "name": "stdout",
     "output_type": "stream",
     "text": [
      "1\n"
     ]
    }
   ],
   "execution_count": 1
  },
  {
   "metadata": {},
   "cell_type": "markdown",
   "source": [
    "# What am I trying to do?\n",
    "Idea 1: learn and document and save somewhere how to schedule a daily job for my system... \n",
    "\n",
    "Слишком широко, слишком абстрактно. Я расплываюсь. \n",
    "Надо принимать какие-то решения...\n",
    "Голова вообще не варит. Сил нет. \n",
    "Как будто душа покидает меня, думая об этом. А должно же наоборот. Empowering. \n",
    "\n",
    "Idea 2:"
   ],
   "id": "3a2a932ca2d66648"
  },
  {
   "metadata": {},
   "cell_type": "code",
   "outputs": [],
   "execution_count": null,
   "source": "",
   "id": "edad464bf316c06b"
  }
 ],
 "metadata": {
  "kernelspec": {
   "display_name": "Python 3",
   "language": "python",
   "name": "python3"
  },
  "language_info": {
   "codemirror_mode": {
    "name": "ipython",
    "version": 2
   },
   "file_extension": ".py",
   "mimetype": "text/x-python",
   "name": "python",
   "nbconvert_exporter": "python",
   "pygments_lexer": "ipython2",
   "version": "2.7.6"
  }
 },
 "nbformat": 4,
 "nbformat_minor": 5
}
