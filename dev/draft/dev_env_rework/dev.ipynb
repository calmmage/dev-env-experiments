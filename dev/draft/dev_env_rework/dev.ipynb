{
 "cells": [
  {
   "cell_type": "code",
   "execution_count": 1,
   "metadata": {},
   "outputs": [
    {
     "name": "stdout",
     "output_type": "stream",
     "text": [
      "1\n"
     ]
    }
   ],
   "source": [
    "print(1)\n"
   ]
  },
  {
   "cell_type": "code",
   "execution_count": 6,
   "metadata": {},
   "outputs": [
    {
     "name": "stdout",
     "output_type": "stream",
     "text": [
      "2024-10-Oct\n"
     ]
    }
   ],
   "source": [
    "from datetime import datetime\n",
    "print(datetime.now().strftime(\"%Y-%m-%b\"))"
   ]
  },
  {
   "cell_type": "code",
   "execution_count": 7,
   "metadata": {},
   "outputs": [],
   "source": [
    "\n",
    "from github import Github\n",
    "from github.Repository import Repository\n",
    "from git import Repo\n",
    "import os\n",
    "import dotenv\n",
    "\n",
    "dotenv.load_dotenv()\n",
    "\n",
    "token = os.getenv(\"GITHUB_API_TOKEN\")\n",
    "github_client = Github(token)"
   ]
  },
  {
   "cell_type": "code",
   "execution_count": 9,
   "metadata": {},
   "outputs": [],
   "source": [
    "# token\n",
    "all_repos = github_client.get_user().get_repos()"
   ]
  },
  {
   "cell_type": "code",
   "execution_count": 18,
   "metadata": {},
   "outputs": [],
   "source": [
    "short_name = 'calmmage-private'\n",
    "full_name = f'calmmage/{short_name}'\n",
    "url = f'https://github.com/{full_name}.git'\n",
    "\n",
    "\n",
    "# get option 1\n",
    "repo_1 = github_client.get_repo(full_name)\n",
    "\n",
    "# get option 2\n",
    "# find repo by name\n",
    "candidates = [repo for repo in all_repos if repo.name == short_name]\n",
    "if len(candidates) == 1:\n",
    "    repo_2 = candidates[0]\n",
    "else:\n",
    "    print(f\"Found {len(candidates)} candidates for {short_name}\")\n",
    "\n",
    "# how do i find repo by full url?\n",
    "# parse name out of url? Or check for url match? \n",
    "# way 1:\n",
    "def get_repo_by_url(url):\n",
    "    all_repos = github_client.get_user().get_repos()\n",
    "    candidates = [repo for repo in all_repos if repo.clone_url == url]\n",
    "    if len(candidates) == 1:\n",
    "        return candidates[0]\n",
    "    else:\n",
    "        print(f\"Found {len(candidates)} candidates for {url}\")\n",
    "        return None\n",
    "repo_3 = get_repo_by_url(url)\n",
    "# way 2:\n",
    "def parse_repo_name_from_url(url):\n",
    "    import re\n",
    "    # Extract the owner and repo name from the URL using regex\n",
    "    match = re.search(r'github\\.com/([^/]+)/([^/]+)\\.git', url)\n",
    "    if match:\n",
    "        owner = match.group(1)\n",
    "        repo_name = match.group(2)\n",
    "        return f\"{owner}/{repo_name}\"\n",
    "    else:\n",
    "        return None\n",
    "repo_4 = parse_repo_name_from_url(url)\n",
    "# repo_2 = github_client.get_repo(short_name)\n",
    "\n",
    "# clone\n",
    "# repo_3 = \n",
    "# Repo.clone_from(url, '~/code/calmmage/calmlib')\n",
    "\n",
    "\n"
   ]
  },
  {
   "cell_type": "code",
   "execution_count": 19,
   "metadata": {},
   "outputs": [
    {
     "name": "stdout",
     "output_type": "stream",
     "text": [
      "Repository(full_name=\"calmmage/calmmage-private\")\n",
      "Repository(full_name=\"calmmage/calmmage-private\")\n",
      "Repository(full_name=\"calmmage/calmmage-private\")\n",
      "calmmage/calmmage-private\n"
     ]
    }
   ],
   "source": []
  },
  {
   "cell_type": "code",
   "execution_count": 30,
   "metadata": {},
   "outputs": [],
   "source": [
    "from loguru import logger\n",
    "url_keywords = ['http://', 'https://', 'github.com', '@']\n",
    "def get_repo(repo_key: str):\n",
    "    \"\"\"\n",
    "    Get repo object from github.\n",
    "    Args:\n",
    "        repo_key (str): repo name, full name, or url.\n",
    "    Returns:\n",
    "        repo (github.Repository.Repository): repo object.\n",
    "    \"\"\"\n",
    "\n",
    "    if any([keyword in repo_key for keyword in url_keywords]): # url\n",
    "        repo = None\n",
    "        candidates = [r for r in all_repos if r.clone_url == repo_key]\n",
    "        if len(candidates) == 1:\n",
    "            repo = candidates[0]\n",
    "\n",
    "        parsed_name = parse_repo_name_from_url(repo_key)\n",
    "        if parsed_name:\n",
    "            if repo and repo.full_name != parsed_name:\n",
    "                logger.warning(f\"Repo {repo} parsed to {parsed_name} but full name is different\")\n",
    "            if repo is None:\n",
    "                repo = github_client.get_repo(parsed_name)\n",
    "    elif '/' in repo_key: # full name\n",
    "        repo = github_client.get_repo(repo_key)\n",
    "        # repo = github_client.get_repo(repo)\n",
    "    else: # just name\n",
    "        candidates = [r for r in all_repos if r.name == repo_key]\n",
    "        user_name  = github_client.get_user().login\n",
    "        logger.info(f\"User name: {user_name}\")\n",
    "        # sort candidates, putting user's repos first\n",
    "        candidates = sorted(candidates, key=lambda x: x.owner.login == user_name, reverse=True)\n",
    "        if len(candidates) == 1:\n",
    "            repo = candidates[0]\n",
    "        elif len(candidates) > 1:\n",
    "            print(f\"Found {len(candidates)} candidates for {repo_key}: {candidates}\")\n",
    "            repo = candidates[0]\n",
    "        else:\n",
    "            print(f\"Found no candidates for {repo_key} in {user_name}\")\n",
    "            repo = None\n",
    "        # repo = github_client.get_repo(f'calmmage/{repo}')\n",
    "    return repo\n",
    "\n"
   ]
  },
  {
   "cell_type": "code",
   "execution_count": 31,
   "metadata": {},
   "outputs": [
    {
     "name": "stdout",
     "output_type": "stream",
     "text": [
      "Repository(full_name=\"calmmage/calmmage-private\")\n",
      "Repository(full_name=\"calmmage/calmmage-private\")\n",
      "Repository(full_name=\"calmmage/calmmage-private\")\n"
     ]
    }
   ],
   "source": [
    "\n",
    "short_name = 'calmmage-private'\n",
    "full_name = f'calmmage/{short_name}'\n",
    "url = f'https://github.com/{full_name}.git'\n",
    "\n",
    "\n",
    "print(get_repo(url))\n",
    "print(get_repo(full_name))\n",
    "print(get_repo(short_name))\n",
    "\n"
   ]
  },
  {
   "cell_type": "code",
   "execution_count": 16,
   "metadata": {},
   "outputs": [],
   "source": [
    "from pathlib import Path\n",
    "temp_path = Path.home() / 'work' / 'temp' /'check-repo-clone'\n",
    "temp_path.mkdir(parents=True, exist_ok=True)\n",
    "\n",
    "for repo in candidates:\n",
    "    Repo.clone_from(repo.clone_url, temp_path / repo.name)\n",
    "\n"
   ]
  },
  {
   "cell_type": "code",
   "execution_count": 37,
   "metadata": {},
   "outputs": [
    {
     "data": {
      "text/plain": [
       "'https://github.com/calmmage/calmmage-private.git'"
      ]
     },
     "execution_count": 37,
     "metadata": {},
     "output_type": "execute_result"
    }
   ],
   "source": [
    "repo.clone_url"
   ]
  },
  {
   "cell_type": "code",
   "execution_count": 36,
   "metadata": {},
   "outputs": [
    {
     "name": "stdout",
     "output_type": "stream",
     "text": [
      "[True, True, True, False, False]\n"
     ]
    }
   ],
   "source": [
    "print(list(sorted([True, False, True, True, False], key=lambda x: x, reverse=True)))"
   ]
  },
  {
   "cell_type": "code",
   "execution_count": 34,
   "metadata": {},
   "outputs": [
    {
     "data": {
      "text/plain": [
       "'calmmage'"
      ]
     },
     "execution_count": 34,
     "metadata": {},
     "output_type": "execute_result"
    }
   ],
   "source": [
    "repo.owner.login "
   ]
  },
  {
   "cell_type": "code",
   "execution_count": 40,
   "metadata": {},
   "outputs": [
    {
     "ename": "AttributeError",
     "evalue": "'Repository' object has no attribute 'clone_to'",
     "output_type": "error",
     "traceback": [
      "\u001B[0;31m---------------------------------------------------------------------------\u001B[0m",
      "\u001B[0;31mAttributeError\u001B[0m                            Traceback (most recent call last)",
      "Cell \u001B[0;32mIn[40], line 1\u001B[0m\n\u001B[0;32m----> 1\u001B[0m \u001B[43mrepo\u001B[49m\u001B[38;5;241;43m.\u001B[39;49m\u001B[43mclone_to\u001B[49m(temp_path \u001B[38;5;241m/\u001B[39m repo\u001B[38;5;241m.\u001B[39mname)\n",
      "\u001B[0;31mAttributeError\u001B[0m: 'Repository' object has no attribute 'clone_to'"
     ]
    }
   ],
   "source": [
    "# repo.clone_to(temp_path / repo.name)"
   ]
  },
  {
   "cell_type": "code",
   "execution_count": 39,
   "metadata": {},
   "outputs": [
    {
     "data": {
      "text/plain": [
       "Repository(full_name=\"calmmage/calmmage-private\")"
      ]
     },
     "execution_count": 39,
     "metadata": {},
     "output_type": "execute_result"
    }
   ],
   "source": [
    "repo"
   ]
  },
  {
   "cell_type": "code",
   "execution_count": 41,
   "metadata": {},
   "outputs": [
    {
     "data": {
      "text/plain": [
       "53.9"
      ]
     },
     "execution_count": 41,
     "metadata": {},
     "output_type": "execute_result"
    }
   ],
   "source": [
    "# fun sidetrack:\n",
    "# 54/35 = 1.54. So 54 - 35% is 35. \n",
    "# let's write code that finds all such pairs (a, b) in a list that a is b% of b.\n",
    "\n",
    "35 * 1.54"
   ]
  },
  {
   "cell_type": "code",
   "execution_count": 57,
   "metadata": {},
   "outputs": [
    {
     "name": "stdout",
     "output_type": "stream",
     "text": [
      "Скидка 49% от 96 = 48.96!\n",
      "А наценка обратно 96% на 49 = 96.04\n",
      "Скидка 48% от 92 = 47.84\n",
      "А наценка обратно 92% на 48 = 92.16\n",
      "Скидка 47% от 89 = 47.17\n",
      "А наценка обратно 89% на 47 = 88.83\n",
      "Скидка 46% от 85 = 45.90!\n",
      "А наценка обратно 85% на 46 = 85.10\n",
      "Скидка 45% от 82 = 45.10\n",
      "А наценка обратно 82% на 45 = 81.90\n",
      "Скидка 44% от 79 = 44.24\n",
      "А наценка обратно 79% на 44 = 78.76\n",
      "Скидка 43% от 75 = 42.75\n",
      "А наценка обратно 75% на 43 = 75.25\n",
      "Скидка 42% от 72 = 41.76\n",
      "А наценка обратно 72% на 42 = 72.24\n",
      "Скидка 41% от 69 = 40.71\n",
      "А наценка обратно 69% на 41 = 69.29\n",
      "Скидка 40% от 67 = 40.20\n",
      "А наценка обратно 67% на 40 = 66.80\n",
      "Скидка 39% от 64 = 39.04!\n",
      "А наценка обратно 64% на 39 = 63.96\n",
      "Скидка 38% от 61 = 37.82\n",
      "А наценка обратно 61% на 38 = 61.18\n",
      "Скидка 37% от 59 = 37.17\n",
      "А наценка обратно 59% на 37 = 58.83\n",
      "Скидка 36% от 56 = 35.84\n",
      "А наценка обратно 56% на 36 = 56.16\n",
      "Скидка 35% от 54 = 35.10\n",
      "А наценка обратно 54% на 35 = 53.90\n",
      "Скидка 33% от 49 = 32.83\n",
      "А наценка обратно 49% на 33 = 49.17\n",
      "Скидка 32% от 47 = 31.96!\n",
      "А наценка обратно 47% на 32 = 47.04\n",
      "Скидка 31% от 45 = 31.05!\n",
      "А наценка обратно 45% на 31 = 44.95\n",
      "Скидка 30% от 43 = 30.10!\n",
      "А наценка обратно 43% на 30 = 42.90\n",
      "Скидка 29% от 41 = 29.11\n",
      "А наценка обратно 41% на 29 = 40.89\n",
      "Скидка 28% от 39 = 28.08!\n",
      "А наценка обратно 39% на 28 = 38.92\n",
      "Скидка 27% от 37 = 27.01!!!\n",
      "А наценка обратно 37% на 27 = 36.99\n",
      "Скидка 26% от 35 = 25.90\n",
      "А наценка обратно 35% на 26 = 35.10\n",
      "Скидка 25% от 33 = 24.75\n",
      "А наценка обратно 33% на 25 = 33.25\n",
      "Скидка 23% от 30 = 23.10\n",
      "А наценка обратно 30% на 23 = 29.90\n",
      "Скидка 22% от 28 = 21.84\n",
      "А наценка обратно 28% на 22 = 28.16\n",
      "Скидка 20% от 25 = 20.00!!!\n",
      "А наценка обратно 25% на 20 = 25.00\n",
      "Скидка 18% от 22 = 18.04!\n",
      "А наценка обратно 22% на 18 = 21.96\n",
      "Скидка 16% от 19 = 15.96!\n",
      "А наценка обратно 19% на 16 = 19.04\n",
      "Скидка 15% от 18 = 15.30\n",
      "А наценка обратно 18% на 15 = 17.70\n",
      "Скидка 14% от 16 = 13.76\n",
      "А наценка обратно 16% на 14 = 16.24\n",
      "Скидка 13% от 15 = 13.05!\n",
      "А наценка обратно 15% на 13 = 14.95\n",
      "Скидка 10% от 11 = 9.90!\n",
      "А наценка обратно 11% на 10 = 11.10\n",
      "Скидка 9% от 10 = 9.10!\n",
      "А наценка обратно 10% на 9 = 9.90\n",
      "Скидка 8% от 9 = 8.28\n",
      "А наценка обратно 9% на 8 = 8.72\n",
      "Скидка 5% от 5 = 4.75\n",
      "А наценка обратно 5% на 5 = 5.25\n",
      "Скидка 4% от 4 = 3.84\n",
      "А наценка обратно 4% на 4 = 4.16\n",
      "Скидка 3% от 3 = 2.91!\n",
      "А наценка обратно 3% на 3 = 3.09\n",
      "Скидка 2% от 2 = 1.96!\n",
      "А наценка обратно 2% на 2 = 2.04\n"
     ]
    }
   ],
   "source": [
    "tolerance = 0.3\n",
    "for i in range(100, 1, -1):\n",
    "    mult = 1 - i / 100.\n",
    "    for j in range(1, 100):\n",
    "        error = j * mult - i\n",
    "        if abs(error) < tolerance:\n",
    "            comment = \"!!!\" if abs(error) < 0.01 else (\"!\" if abs(error) < 0.1 else \"\")\n",
    "            print(f\"Скидка {i}% от {j} = {j * mult:.2f}{comment}\")\n",
    "\n",
    "            rmult = 1 + j / 100.\n",
    "            print(f\"А наценка обратно {j}% на {i} = {i * rmult:.2f}\")\n",
    "\n"
   ]
  },
  {
   "cell_type": "code",
   "execution_count": 2,
   "metadata": {},
   "outputs": [
    {
     "name": "stdout",
     "output_type": "stream",
     "text": [
      "/Users/petrlavrov/work/projects/dev-env\n"
     ]
    }
   ],
   "source": [
    "from dev_env import repo_root\n",
    "print(repo_root)"
   ]
  },
  {
   "cell_type": "code",
   "execution_count": 5,
   "metadata": {},
   "outputs": [
    {
     "name": "stdout",
     "output_type": "stream",
     "text": [
      "3\n",
      "3\n",
      "3\n",
      "3\n",
      "3\n",
      "3\n",
      "3\n",
      "3\n",
      "3\n"
     ]
    }
   ],
   "source": [
    "from functools import lru_cache\n",
    "import random\n",
    "@lru_cache\n",
    "def rand_int(a, b):\n",
    "    return random.randint(a, b)\n",
    "\n",
    "print(rand_int(1, 10))\n",
    "print(rand_int(1, 10))\n",
    "print(rand_int(1, 10))\n",
    "print(rand_int(1, 10))\n",
    "print(rand_int(1, 10))\n",
    "print(rand_int(1, 10))\n",
    "print(rand_int(1, 10))\n",
    "print(rand_int(1, 10))\n",
    "print(rand_int(1, 10))\n",
    "\n"
   ]
  },
  {
   "cell_type": "code",
   "execution_count": 15,
   "metadata": {},
   "outputs": [
    {
     "ename": "AttributeError",
     "evalue": "'str' object has no attribute 'name'",
     "output_type": "error",
     "traceback": [
      "\u001B[0;31m---------------------------------------------------------------------------\u001B[0m",
      "\u001B[0;31mAttributeError\u001B[0m                            Traceback (most recent call last)",
      "Cell \u001B[0;32mIn[15], line 5\u001B[0m\n\u001B[1;32m      3\u001B[0m repo \u001B[38;5;241m=\u001B[39m Repo(repo_root)\n\u001B[1;32m      4\u001B[0m \u001B[38;5;66;03m# print name  of root folder\u001B[39;00m\n\u001B[0;32m----> 5\u001B[0m \u001B[38;5;28mprint\u001B[39m(\u001B[43mrepo\u001B[49m\u001B[38;5;241;43m.\u001B[39;49m\u001B[43mworking_tree_dir\u001B[49m\u001B[38;5;241;43m.\u001B[39;49m\u001B[43mname\u001B[49m)\n",
      "\u001B[0;31mAttributeError\u001B[0m: 'str' object has no attribute 'name'"
     ]
    }
   ],
   "source": [
    "from git import Repo\n",
    "from pathlib import Path\n",
    "repo = Repo(repo_root)\n",
    "# print name  of root folder\n",
    "print(Path(repo.working_tree_dir).name)\n"
   ]
  },
  {
   "cell_type": "code",
   "execution_count": null,
   "metadata": {},
   "outputs": [],
   "source": []
  }
 ],
 "metadata": {
  "kernelspec": {
   "display_name": ".venv",
   "language": "python",
   "name": "python3"
  },
  "language_info": {
   "codemirror_mode": {
    "name": "ipython",
    "version": 3
   },
   "file_extension": ".py",
   "mimetype": "text/x-python",
   "name": "python",
   "nbconvert_exporter": "python",
   "pygments_lexer": "ipython3",
   "version": "3.11.10"
  }
 },
 "nbformat": 4,
 "nbformat_minor": 2
}
