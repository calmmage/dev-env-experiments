{
 "cells": [
  {
   "cell_type": "code",
   "id": "initial_id",
   "metadata": {
    "collapsed": true,
    "ExecuteTime": {
     "end_time": "2024-10-15T02:37:17.199129Z",
     "start_time": "2024-10-15T02:37:17.020390Z"
    }
   },
   "source": [
    "from dev_env.core.git_utils import get_github_template_names\n",
    "\n",
    "print(1)"
   ],
   "outputs": [
    {
     "name": "stdout",
     "output_type": "stream",
     "text": [
      "1\n"
     ]
    }
   ],
   "execution_count": 3
  },
  {
   "metadata": {
    "ExecuteTime": {
     "end_time": "2024-10-15T02:37:24.001576Z",
     "start_time": "2024-10-15T02:37:22.283337Z"
    }
   },
   "cell_type": "code",
   "source": "list(get_github_template_names())",
   "id": "91db7407da395ac5",
   "outputs": [
    {
     "data": {
      "text/plain": [
       "['base-template',\n",
       " 'bot-lib-bot-template',\n",
       " 'bot-template',\n",
       " 'isnimschikov-bot-template',\n",
       " 'python-app-template',\n",
       " 'python-project-template',\n",
       " 'seasonal-dir-template',\n",
       " 'typescript-project-template',\n",
       " 'teletalk-template']"
      ]
     },
     "execution_count": 5,
     "metadata": {},
     "output_type": "execute_result"
    }
   ],
   "execution_count": 5
  },
  {
   "metadata": {},
   "cell_type": "code",
   "outputs": [],
   "execution_count": null,
   "source": "",
   "id": "856eb2047e535f5e"
  }
 ],
 "metadata": {
  "kernelspec": {
   "display_name": "Python 3",
   "language": "python",
   "name": "python3"
  },
  "language_info": {
   "codemirror_mode": {
    "name": "ipython",
    "version": 2
   },
   "file_extension": ".py",
   "mimetype": "text/x-python",
   "name": "python",
   "nbconvert_exporter": "python",
   "pygments_lexer": "ipython2",
   "version": "2.7.6"
  }
 },
 "nbformat": 4,
 "nbformat_minor": 5
}
